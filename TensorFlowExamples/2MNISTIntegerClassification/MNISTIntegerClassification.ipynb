{
 "cells": [
  {
   "cell_type": "code",
   "execution_count": 2,
   "metadata": {},
   "outputs": [],
   "source": [
    "import tensorflow as tf\n",
    "import numpy as np\n",
    "from tqdm import tnrange\n",
    "import gzip\n",
    "import matplotlib.pyplot as plt"
   ]
  },
  {
   "cell_type": "markdown",
   "metadata": {},
   "source": [
    "# Introduction to Neural Networks\n",
    "\n",
    "If you have found this tutorial, you have most likely heard of Neural Networks before, but what is a Neural network?  Structurally, a neural network is comprized of layers of neurons where each neuraon contains a single number.  These layers are connected by weights that allow the data to flow from neuron to neuron. The following diagram is what is known as a MultiLayered Perceptron (MLP) Network.  ![NN_diagram.png](figs/NN_diagram.png)  It consists of an Input Layer (blue) where each neuron stores the value of an input.  An Output layer (green) where each neuron contains a value of the output.  And at least one hidden layer between them.  These layers are arranged in a sequence, and each layer is densely connected to the layer before it.  This means the each neuron is connected to all of the neurons in the previous layer.  How the value in a neuron in any layer but the input layer is calculated is by multiplying all the values in the connected Neurons by the weight connecting them, and then summing all these products together with a bias.  After this is done, a non-linear activation function is applied to the value of the sum.  This can be written out mathematically as matrix multiplication if we view the values of each layer as a vecotr:\n",
    "\\begin{equation}\n",
    "\\mathbf{h}_{i+1} = \\sigma\\left(W_i\\mathbf{h}_i + b_i\\right)\n",
    "\\end{equation}\n",
    "where $W_i$ is a matrix of the weights connecting layers $i$ and $i+1$, $b_i$ are the biases, $\\mathbf{h}_i$ is the vector contain\n",
    "\n",
    "## MNIST Integer Classification\n",
    "\n",
    "The MNIST data set is a curated set of images of hand drawn numerals.  The following are samples from the dataset: ![MNIST_Images.png](figs/MNIST_Images.png) A classic problem is to build a machine learner that is capable of classifying the images as whatever number is represented, that is what we will be doing in this tutorial.  The first thing we need to is load the dataset. There are parts that need to be loaded, 2 sets of images, and 2 sets of labels.  The labels are the numbers that are drawn on the images, we will need these to train the learner.  The two sets are a training set and a validation set.  The training set is a set of 60,000 images that will be used to train the our learner.  The validation set is a set of 10,000 images that are not in the training set.  These images will be used to occasionally evaluate the learner to see how it performs on data it has not been trained on.  This helps determine if the learner is learning data representations, or if it is just memorizing the training set.  This concept will be discussed later in more detail, for now, the first step is to load the datasets.  The dataset is available [here](http://yann.lecun.com/exdb/mnist/) and is included in this repo."
   ]
  },
  {
   "cell_type": "code",
   "execution_count": 3,
   "metadata": {},
   "outputs": [
    {
     "name": "stdout",
     "output_type": "stream",
     "text": [
      "Load Training Data...\n"
     ]
    },
    {
     "data": {
      "application/vnd.jupyter.widget-view+json": {
       "model_id": "98d432cb1e2b40d690485fc99499545b",
       "version_major": 2,
       "version_minor": 0
      },
      "text/plain": [
       "HBox(children=(IntProgress(value=0, max=60000), HTML(value='')))"
      ]
     },
     "metadata": {},
     "output_type": "display_data"
    },
    {
     "name": "stdout",
     "output_type": "stream",
     "text": [
      "\n",
      "Loading Training Labels...\n"
     ]
    },
    {
     "data": {
      "application/vnd.jupyter.widget-view+json": {
       "model_id": "90141c40517644449cf96a3673d4d69a",
       "version_major": 2,
       "version_minor": 0
      },
      "text/plain": [
       "HBox(children=(IntProgress(value=0, max=60000), HTML(value='')))"
      ]
     },
     "metadata": {},
     "output_type": "display_data"
    },
    {
     "name": "stdout",
     "output_type": "stream",
     "text": [
      "\n",
      "Loading Validation Data...\n"
     ]
    },
    {
     "data": {
      "application/vnd.jupyter.widget-view+json": {
       "model_id": "330cbf1034954e06baa906f9a57c282a",
       "version_major": 2,
       "version_minor": 0
      },
      "text/plain": [
       "HBox(children=(IntProgress(value=0, max=10000), HTML(value='')))"
      ]
     },
     "metadata": {},
     "output_type": "display_data"
    },
    {
     "name": "stdout",
     "output_type": "stream",
     "text": [
      "\n",
      "Loading Validation Labels\n"
     ]
    },
    {
     "data": {
      "application/vnd.jupyter.widget-view+json": {
       "model_id": "baaf1890396b49c9867a10202373cbe5",
       "version_major": 2,
       "version_minor": 0
      },
      "text/plain": [
       "HBox(children=(IntProgress(value=0, max=10000), HTML(value='')))"
      ]
     },
     "metadata": {},
     "output_type": "display_data"
    },
    {
     "name": "stdout",
     "output_type": "stream",
     "text": [
      "\n"
     ]
    }
   ],
   "source": [
    "print('Load Training Data...')\n",
    "with gzip.open('../../data/MNIST/MNIST_train_imgs.idx3-ubyte.gz', 'rb') as file:\n",
    "    mn = int.from_bytes(file.read(4), byteorder='big')\n",
    "    if mn != 2051:\n",
    "        print('Trainiing Data file corrupt, Magic Number is %d'%mn)\n",
    "        exit(1)\n",
    "        \n",
    "    train_size = int.from_bytes(file.read(4), byteorder='big')\n",
    "    train_n_rows = int.from_bytes(file.read(4), byteorder='big')\n",
    "    train_n_cols = int.from_bytes(file.read(4), byteorder='big')\n",
    "                \n",
    "    train_dat = np.zeros((train_size, train_n_rows, train_n_cols))\n",
    "                \n",
    "    for i in tnrange(train_size):\n",
    "        for j in range(train_n_rows):\n",
    "            for k in range(train_n_cols):\n",
    "                train_dat[i, j, k] = float(int.from_bytes(file.read(1), byteorder='big'))/255.0\n",
    "    \n",
    "print('Loading Training Labels...')\n",
    "with gzip.open('../../data/MNIST/MNIST_train_labels.idx1-ubyte.gz', 'rb') as file:\n",
    "    mn = int.from_bytes(file.read(4), byteorder='big')\n",
    "    if mn != 2049:\n",
    "        print('Training Labels file corrupt, Magic Number is %d'%mn)\n",
    "        exit(1)\n",
    "                    \n",
    "    train_size_l = int.from_bytes(file.read(4), byteorder='big')\n",
    "    train_labels = np.zeros((train_size_l, 10))\n",
    "                \n",
    "    for i in tnrange(train_size_l):\n",
    "        train_labels[i, int.from_bytes(file.read(1), byteorder='big')] = 1.0\n",
    "                            \n",
    "print('Loading Validation Data...')   \n",
    "with gzip.open('../../data/MNIST/MNIST_valid_imgs.idx3-ubyte.gz', 'rb') as file:\n",
    "    mn = int.from_bytes(file.read(4), byteorder='big')\n",
    "    if mn != 2051:\n",
    "        print('Validation Data file corrupt, Magic Number is %d'%mn)\n",
    "        exit(1)\n",
    "                \n",
    "    valid_size = int.from_bytes(file.read(4), byteorder='big')\n",
    "    valid_n_rows = int.from_bytes(file.read(4), byteorder='big')\n",
    "    valid_n_cols = int.from_bytes(file.read(4), byteorder='big')\n",
    "                \n",
    "    valid_dat = np.zeros((valid_size, valid_n_rows, valid_n_cols))\n",
    "                \n",
    "    for i in tnrange(valid_size):\n",
    "        for j in range(valid_n_rows):\n",
    "            for k in range(valid_n_cols):\n",
    "                valid_dat[i, j, k] = float(int.from_bytes(file.read(1), byteorder='big'))/255.0\n",
    "                            \n",
    "print('Loading Validation Labels')\n",
    "with gzip.open('../../data/MNIST/MNIST_valid_labels.idx1-ubyte.gz', 'rb') as file:\n",
    "    mn = int.from_bytes(file.read(4), byteorder='big')\n",
    "    if mn != 2049:\n",
    "        print('Validation Labels file corrupt, Magic Number is %d'%mn)\n",
    "        exit(1)\n",
    "                    \n",
    "    valid_size_l = int.from_bytes(file.read(4), byteorder='big')\n",
    "    valid_labels = np.zeros((valid_size_l, 10))\n",
    "                \n",
    "    for i in tnrange(valid_size_l):\n",
    "        valid_labels[i, int.from_bytes(file.read(1), byteorder='big')] = 1.0\n",
    "                            \n",
    "assert valid_size == valid_size_l\n",
    "assert train_size == train_size_l\n",
    "assert valid_n_rows == train_n_rows\n",
    "assert valid_n_cols == train_n_cols\n",
    "    \n",
    "n_cols = train_n_cols\n",
    "n_rows = train_n_rows"
   ]
  },
  {
   "cell_type": "markdown",
   "metadata": {},
   "source": [
    "## Build The Network\n",
    "\n",
    "Now we need to build the network in tensorflow.  For details on tensorflow, see the previous tutorials.  For this problem, we will be using a MultiLayer Perceptron (MLP) network.  This network consists of at least one hidden layer where each layer is densely connected with non-linear activation.  Before we apply the MLP, we will flatten the image from a 2D tensor to a 1D vector.  We will then use two hidden layers of ReLu units.  ReLu is a popular activation function defined as:\n",
    "\\begin{equation}\n",
    "ReLu\\left(x\\right) = max\\left\\lbrace x, 0 \\right\\rbrace\n",
    "\\end{equation}\n",
    "Finally, we will add the output layer which is also densly connected to the second hidden layer with softmax activation.  Softmax ephasises the maximum value in a vector, tending it towards 1, while minimizing all the other elements to 0.  It is often used as the output activation for classification networks as it will emphasise which case the classifier things the input is.\n",
    "\\begin{equation}\n",
    "Softmax\\left(\\mathbf{z}\\right) = \\mathbf{x}\n",
    "\\end{equation}\n",
    "where\n",
    "\\begin{equation}\n",
    "x_i = \\frac{exp\\left(z_i\\right)}{\\sum^K_{j=1}exp\\left(z_j\\right)} \\forall i \\in \\left[ 1, K\\right]\n",
    "\\end{equation}\n",
    "where $x_i$ and $z_i$ are the $i$th elements of $\\mathbf{x}$ and $\\mathbf{z}$ respectively.\n",
    "\n",
    "Note that the output of this network is a 10 dimenstional vector, rather than a single number.  While we are trying to learn numerals, this is a classification problem trying to learn the *shape* of the numerals in the image and classify them as 0-9.  each element in the output vector represents each numeral, and the value represents a certainty of the network in its classification of the input as that numeral.  This is called \"One Hot\" representation and is a common representation of labels for classification problems.  Note that the labels were also loaded in a one hot format.\n",
    "\n",
    "Once we have built the network, we specify the loss function.  For this task, we will use a Mean Squared Error (MSE) term, that is the mean of the square of the error between the predicted labels and the correct labels.  After this is defined, we setup the optimizer that will perform the training.  For this problem, we will use the [Adam](https://arxiv.org/abs/1412.6980) algorithm.  We set it up to minimize our specified loss function."
   ]
  },
  {
   "cell_type": "code",
   "execution_count": 4,
   "metadata": {},
   "outputs": [],
   "source": [
    "h1_size = 20 # first hidden layer size\n",
    "h2_size = 15 # second hidden layer size\n",
    "\n",
    "learning_rate = 0.0001\n",
    "\n",
    "with tf.variable_scope('MNIST_Integer_Recognition') as scope:\n",
    "    # Specify inputs\n",
    "    img_in = tf.placeholder('float', [None, n_rows, n_cols], 'input_img')\n",
    "    label_true = tf.placeholder('float', [None, 10], 'true_label')\n",
    "        \n",
    "    # Build network\n",
    "    img_flat = tf.layers.flatten(img_in, 'flatten')\n",
    "    h1 = tf.layers.dense(img_flat, h1_size, tf.nn.relu, name='h1')\n",
    "    h2 = tf.layers.dense(h1, h2_size, tf.nn.relu, name='h2')\n",
    "    label_pred = tf.layers.dense(h2, 10, tf.nn.softmax, name='label_pred')\n",
    "        \n",
    "    # Calculate loss\n",
    "    loss = tf.reduce_mean(tf.squared_difference(label_pred, label_true))\n",
    "        \n",
    "    # Setup Optimizer\n",
    "    trainer = tf.train.AdamOptimizer(learning_rate=learning_rate)\n",
    "    train_op = trainer.minimize(loss)"
   ]
  },
  {
   "cell_type": "markdown",
   "metadata": {},
   "source": [
    "## Train the Network\n",
    "\n",
    "Now that we have built the network, we can train the network.  We will train this network over a seriese of epochs.  One epoch involves training the network on all the values in the training set.  The training set is randomly shuffeled each epoch and organized into batches.  Each batch is passed to the training operation, which calculates the gradient of the average loss over the batch with respect to all the weights in the network.  The weights are then adjusted according to this gradient.  After the network has been trained on every element in the training set, the average loss of the validation set is calculated.  This value is saved along with the average loss of the training set.  After the training is completed, the prediction for the validation set is calculated."
   ]
  },
  {
   "cell_type": "code",
   "execution_count": 5,
   "metadata": {},
   "outputs": [
    {
     "name": "stdout",
     "output_type": "stream",
     "text": [
      "Training...\n"
     ]
    },
    {
     "data": {
      "application/vnd.jupyter.widget-view+json": {
       "model_id": "b24b34d9407848c2b881eac2906eb23d",
       "version_major": 2,
       "version_minor": 0
      },
      "text/plain": [
       "HBox(children=(IntProgress(value=0, max=50), HTML(value='')))"
      ]
     },
     "metadata": {},
     "output_type": "display_data"
    },
    {
     "data": {
      "application/vnd.jupyter.widget-view+json": {
       "model_id": "b3fc735ddb01408eae2d565260f500b5",
       "version_major": 2,
       "version_minor": 0
      },
      "text/plain": [
       "HBox(children=(IntProgress(value=0, max=469), HTML(value='')))"
      ]
     },
     "metadata": {},
     "output_type": "display_data"
    },
    {
     "data": {
      "application/vnd.jupyter.widget-view+json": {
       "model_id": "a53975e563a24b25aa216f130630aa73",
       "version_major": 2,
       "version_minor": 0
      },
      "text/plain": [
       "HBox(children=(IntProgress(value=0, max=469), HTML(value='')))"
      ]
     },
     "metadata": {},
     "output_type": "display_data"
    },
    {
     "data": {
      "application/vnd.jupyter.widget-view+json": {
       "model_id": "1cd3306dcdc54d0290c2c139f2ffb3cc",
       "version_major": 2,
       "version_minor": 0
      },
      "text/plain": [
       "HBox(children=(IntProgress(value=0, max=469), HTML(value='')))"
      ]
     },
     "metadata": {},
     "output_type": "display_data"
    },
    {
     "data": {
      "application/vnd.jupyter.widget-view+json": {
       "model_id": "63ce946cf3424136b805e8e00288c29a",
       "version_major": 2,
       "version_minor": 0
      },
      "text/plain": [
       "HBox(children=(IntProgress(value=0, max=469), HTML(value='')))"
      ]
     },
     "metadata": {},
     "output_type": "display_data"
    },
    {
     "data": {
      "application/vnd.jupyter.widget-view+json": {
       "model_id": "66f86d6cfa0c45d0b33bbafbe3223121",
       "version_major": 2,
       "version_minor": 0
      },
      "text/plain": [
       "HBox(children=(IntProgress(value=0, max=469), HTML(value='')))"
      ]
     },
     "metadata": {},
     "output_type": "display_data"
    },
    {
     "data": {
      "application/vnd.jupyter.widget-view+json": {
       "model_id": "11d335c2a33a42879b69386caeedd12f",
       "version_major": 2,
       "version_minor": 0
      },
      "text/plain": [
       "HBox(children=(IntProgress(value=0, max=469), HTML(value='')))"
      ]
     },
     "metadata": {},
     "output_type": "display_data"
    },
    {
     "data": {
      "application/vnd.jupyter.widget-view+json": {
       "model_id": "bd9e0ed3d8894c2ab1c52e8355b65437",
       "version_major": 2,
       "version_minor": 0
      },
      "text/plain": [
       "HBox(children=(IntProgress(value=0, max=469), HTML(value='')))"
      ]
     },
     "metadata": {},
     "output_type": "display_data"
    },
    {
     "data": {
      "application/vnd.jupyter.widget-view+json": {
       "model_id": "998ac08261164819acbffeb998403088",
       "version_major": 2,
       "version_minor": 0
      },
      "text/plain": [
       "HBox(children=(IntProgress(value=0, max=469), HTML(value='')))"
      ]
     },
     "metadata": {},
     "output_type": "display_data"
    },
    {
     "data": {
      "application/vnd.jupyter.widget-view+json": {
       "model_id": "cfb5586836334835b4e1d837ed77a6f3",
       "version_major": 2,
       "version_minor": 0
      },
      "text/plain": [
       "HBox(children=(IntProgress(value=0, max=469), HTML(value='')))"
      ]
     },
     "metadata": {},
     "output_type": "display_data"
    },
    {
     "data": {
      "application/vnd.jupyter.widget-view+json": {
       "model_id": "f52d77a3b71d40aeb83ee15301240a9c",
       "version_major": 2,
       "version_minor": 0
      },
      "text/plain": [
       "HBox(children=(IntProgress(value=0, max=469), HTML(value='')))"
      ]
     },
     "metadata": {},
     "output_type": "display_data"
    },
    {
     "data": {
      "application/vnd.jupyter.widget-view+json": {
       "model_id": "555145f0b52d4865a2c03c0ec78fce46",
       "version_major": 2,
       "version_minor": 0
      },
      "text/plain": [
       "HBox(children=(IntProgress(value=0, max=469), HTML(value='')))"
      ]
     },
     "metadata": {},
     "output_type": "display_data"
    },
    {
     "data": {
      "application/vnd.jupyter.widget-view+json": {
       "model_id": "f8c2983a46374a45853fae8a8ab8774f",
       "version_major": 2,
       "version_minor": 0
      },
      "text/plain": [
       "HBox(children=(IntProgress(value=0, max=469), HTML(value='')))"
      ]
     },
     "metadata": {},
     "output_type": "display_data"
    },
    {
     "data": {
      "application/vnd.jupyter.widget-view+json": {
       "model_id": "1f525b5bb0ed4b5ab0b7691b80dd9898",
       "version_major": 2,
       "version_minor": 0
      },
      "text/plain": [
       "HBox(children=(IntProgress(value=0, max=469), HTML(value='')))"
      ]
     },
     "metadata": {},
     "output_type": "display_data"
    },
    {
     "data": {
      "application/vnd.jupyter.widget-view+json": {
       "model_id": "d09b495e8f8d46ac95eecab58a50dbff",
       "version_major": 2,
       "version_minor": 0
      },
      "text/plain": [
       "HBox(children=(IntProgress(value=0, max=469), HTML(value='')))"
      ]
     },
     "metadata": {},
     "output_type": "display_data"
    },
    {
     "data": {
      "application/vnd.jupyter.widget-view+json": {
       "model_id": "d0306b3ab482448cb1c56a086e3ed88a",
       "version_major": 2,
       "version_minor": 0
      },
      "text/plain": [
       "HBox(children=(IntProgress(value=0, max=469), HTML(value='')))"
      ]
     },
     "metadata": {},
     "output_type": "display_data"
    },
    {
     "data": {
      "application/vnd.jupyter.widget-view+json": {
       "model_id": "960a9bad5a1c47e692c0ccd821c4fa2c",
       "version_major": 2,
       "version_minor": 0
      },
      "text/plain": [
       "HBox(children=(IntProgress(value=0, max=469), HTML(value='')))"
      ]
     },
     "metadata": {},
     "output_type": "display_data"
    },
    {
     "data": {
      "application/vnd.jupyter.widget-view+json": {
       "model_id": "8dbd7df19b924cdcbfd78f074fb03bc4",
       "version_major": 2,
       "version_minor": 0
      },
      "text/plain": [
       "HBox(children=(IntProgress(value=0, max=469), HTML(value='')))"
      ]
     },
     "metadata": {},
     "output_type": "display_data"
    },
    {
     "data": {
      "application/vnd.jupyter.widget-view+json": {
       "model_id": "5b39b84b99d04d819a3a2c7b22c7caa0",
       "version_major": 2,
       "version_minor": 0
      },
      "text/plain": [
       "HBox(children=(IntProgress(value=0, max=469), HTML(value='')))"
      ]
     },
     "metadata": {},
     "output_type": "display_data"
    },
    {
     "data": {
      "application/vnd.jupyter.widget-view+json": {
       "model_id": "86c39587c4d044b98a8afc4214a4b9a9",
       "version_major": 2,
       "version_minor": 0
      },
      "text/plain": [
       "HBox(children=(IntProgress(value=0, max=469), HTML(value='')))"
      ]
     },
     "metadata": {},
     "output_type": "display_data"
    },
    {
     "data": {
      "application/vnd.jupyter.widget-view+json": {
       "model_id": "cee0a78a82e248b8b75f278f5ca8b979",
       "version_major": 2,
       "version_minor": 0
      },
      "text/plain": [
       "HBox(children=(IntProgress(value=0, max=469), HTML(value='')))"
      ]
     },
     "metadata": {},
     "output_type": "display_data"
    },
    {
     "data": {
      "application/vnd.jupyter.widget-view+json": {
       "model_id": "ad6b9d5a14994d129526337f0d157758",
       "version_major": 2,
       "version_minor": 0
      },
      "text/plain": [
       "HBox(children=(IntProgress(value=0, max=469), HTML(value='')))"
      ]
     },
     "metadata": {},
     "output_type": "display_data"
    },
    {
     "data": {
      "application/vnd.jupyter.widget-view+json": {
       "model_id": "dbd9612615094f4fba68fc0afe620350",
       "version_major": 2,
       "version_minor": 0
      },
      "text/plain": [
       "HBox(children=(IntProgress(value=0, max=469), HTML(value='')))"
      ]
     },
     "metadata": {},
     "output_type": "display_data"
    },
    {
     "data": {
      "application/vnd.jupyter.widget-view+json": {
       "model_id": "5e9cdc7690de48a1b371a67702d735ba",
       "version_major": 2,
       "version_minor": 0
      },
      "text/plain": [
       "HBox(children=(IntProgress(value=0, max=469), HTML(value='')))"
      ]
     },
     "metadata": {},
     "output_type": "display_data"
    },
    {
     "data": {
      "application/vnd.jupyter.widget-view+json": {
       "model_id": "d6626b5b795f4de39001dfebfa70b5cb",
       "version_major": 2,
       "version_minor": 0
      },
      "text/plain": [
       "HBox(children=(IntProgress(value=0, max=469), HTML(value='')))"
      ]
     },
     "metadata": {},
     "output_type": "display_data"
    },
    {
     "data": {
      "application/vnd.jupyter.widget-view+json": {
       "model_id": "9593ef3f6b7e4c0fa5667155861483ae",
       "version_major": 2,
       "version_minor": 0
      },
      "text/plain": [
       "HBox(children=(IntProgress(value=0, max=469), HTML(value='')))"
      ]
     },
     "metadata": {},
     "output_type": "display_data"
    },
    {
     "data": {
      "application/vnd.jupyter.widget-view+json": {
       "model_id": "1ab13224d64f49a692c21ada58477cdf",
       "version_major": 2,
       "version_minor": 0
      },
      "text/plain": [
       "HBox(children=(IntProgress(value=0, max=469), HTML(value='')))"
      ]
     },
     "metadata": {},
     "output_type": "display_data"
    },
    {
     "data": {
      "application/vnd.jupyter.widget-view+json": {
       "model_id": "8bc833f24152444483bbb8347e0b7bee",
       "version_major": 2,
       "version_minor": 0
      },
      "text/plain": [
       "HBox(children=(IntProgress(value=0, max=469), HTML(value='')))"
      ]
     },
     "metadata": {},
     "output_type": "display_data"
    },
    {
     "data": {
      "application/vnd.jupyter.widget-view+json": {
       "model_id": "415f7f790e0a46779e1072344bf2f1e1",
       "version_major": 2,
       "version_minor": 0
      },
      "text/plain": [
       "HBox(children=(IntProgress(value=0, max=469), HTML(value='')))"
      ]
     },
     "metadata": {},
     "output_type": "display_data"
    },
    {
     "data": {
      "application/vnd.jupyter.widget-view+json": {
       "model_id": "d64878c2af4f49bea0ef2d920afbc5ce",
       "version_major": 2,
       "version_minor": 0
      },
      "text/plain": [
       "HBox(children=(IntProgress(value=0, max=469), HTML(value='')))"
      ]
     },
     "metadata": {},
     "output_type": "display_data"
    },
    {
     "data": {
      "application/vnd.jupyter.widget-view+json": {
       "model_id": "0aed7d18c0a1416f82083af3a7c9a125",
       "version_major": 2,
       "version_minor": 0
      },
      "text/plain": [
       "HBox(children=(IntProgress(value=0, max=469), HTML(value='')))"
      ]
     },
     "metadata": {},
     "output_type": "display_data"
    },
    {
     "data": {
      "application/vnd.jupyter.widget-view+json": {
       "model_id": "3ec370aad04d4c9895747b6d81594f06",
       "version_major": 2,
       "version_minor": 0
      },
      "text/plain": [
       "HBox(children=(IntProgress(value=0, max=469), HTML(value='')))"
      ]
     },
     "metadata": {},
     "output_type": "display_data"
    },
    {
     "data": {
      "application/vnd.jupyter.widget-view+json": {
       "model_id": "3b98526f92fe46f99d9fabda4f06436a",
       "version_major": 2,
       "version_minor": 0
      },
      "text/plain": [
       "HBox(children=(IntProgress(value=0, max=469), HTML(value='')))"
      ]
     },
     "metadata": {},
     "output_type": "display_data"
    },
    {
     "data": {
      "application/vnd.jupyter.widget-view+json": {
       "model_id": "846de76c75984e79aae263776756d4b6",
       "version_major": 2,
       "version_minor": 0
      },
      "text/plain": [
       "HBox(children=(IntProgress(value=0, max=469), HTML(value='')))"
      ]
     },
     "metadata": {},
     "output_type": "display_data"
    },
    {
     "data": {
      "application/vnd.jupyter.widget-view+json": {
       "model_id": "1477f142d171464798bb18b4a7cc94eb",
       "version_major": 2,
       "version_minor": 0
      },
      "text/plain": [
       "HBox(children=(IntProgress(value=0, max=469), HTML(value='')))"
      ]
     },
     "metadata": {},
     "output_type": "display_data"
    },
    {
     "data": {
      "application/vnd.jupyter.widget-view+json": {
       "model_id": "65580bce0e79476d9541a25bc27b96d5",
       "version_major": 2,
       "version_minor": 0
      },
      "text/plain": [
       "HBox(children=(IntProgress(value=0, max=469), HTML(value='')))"
      ]
     },
     "metadata": {},
     "output_type": "display_data"
    },
    {
     "data": {
      "application/vnd.jupyter.widget-view+json": {
       "model_id": "f026a75cd74b4f63b1cd35beb8d8f432",
       "version_major": 2,
       "version_minor": 0
      },
      "text/plain": [
       "HBox(children=(IntProgress(value=0, max=469), HTML(value='')))"
      ]
     },
     "metadata": {},
     "output_type": "display_data"
    },
    {
     "data": {
      "application/vnd.jupyter.widget-view+json": {
       "model_id": "7cb7f5115dd64f09acfa1ecd23d39365",
       "version_major": 2,
       "version_minor": 0
      },
      "text/plain": [
       "HBox(children=(IntProgress(value=0, max=469), HTML(value='')))"
      ]
     },
     "metadata": {},
     "output_type": "display_data"
    },
    {
     "data": {
      "application/vnd.jupyter.widget-view+json": {
       "model_id": "8efd1e829ec248d7890c39bae38a7f2e",
       "version_major": 2,
       "version_minor": 0
      },
      "text/plain": [
       "HBox(children=(IntProgress(value=0, max=469), HTML(value='')))"
      ]
     },
     "metadata": {},
     "output_type": "display_data"
    },
    {
     "data": {
      "application/vnd.jupyter.widget-view+json": {
       "model_id": "1944178d3fda487296d7bb62abdb9a43",
       "version_major": 2,
       "version_minor": 0
      },
      "text/plain": [
       "HBox(children=(IntProgress(value=0, max=469), HTML(value='')))"
      ]
     },
     "metadata": {},
     "output_type": "display_data"
    },
    {
     "data": {
      "application/vnd.jupyter.widget-view+json": {
       "model_id": "32effb52877c473698c8efab19e6c684",
       "version_major": 2,
       "version_minor": 0
      },
      "text/plain": [
       "HBox(children=(IntProgress(value=0, max=469), HTML(value='')))"
      ]
     },
     "metadata": {},
     "output_type": "display_data"
    },
    {
     "data": {
      "application/vnd.jupyter.widget-view+json": {
       "model_id": "56faa9b7dde1479887c772444f150a29",
       "version_major": 2,
       "version_minor": 0
      },
      "text/plain": [
       "HBox(children=(IntProgress(value=0, max=469), HTML(value='')))"
      ]
     },
     "metadata": {},
     "output_type": "display_data"
    },
    {
     "data": {
      "application/vnd.jupyter.widget-view+json": {
       "model_id": "c725c74f0e4e4740bf7d3e567e244d1a",
       "version_major": 2,
       "version_minor": 0
      },
      "text/plain": [
       "HBox(children=(IntProgress(value=0, max=469), HTML(value='')))"
      ]
     },
     "metadata": {},
     "output_type": "display_data"
    },
    {
     "data": {
      "application/vnd.jupyter.widget-view+json": {
       "model_id": "114e040e5709491abcf557abb4dc2f88",
       "version_major": 2,
       "version_minor": 0
      },
      "text/plain": [
       "HBox(children=(IntProgress(value=0, max=469), HTML(value='')))"
      ]
     },
     "metadata": {},
     "output_type": "display_data"
    },
    {
     "data": {
      "application/vnd.jupyter.widget-view+json": {
       "model_id": "09fdb8f85edc4bf68e54bdb11727dfb5",
       "version_major": 2,
       "version_minor": 0
      },
      "text/plain": [
       "HBox(children=(IntProgress(value=0, max=469), HTML(value='')))"
      ]
     },
     "metadata": {},
     "output_type": "display_data"
    },
    {
     "data": {
      "application/vnd.jupyter.widget-view+json": {
       "model_id": "16e647f43edf4889b3d2a7dac9154ad4",
       "version_major": 2,
       "version_minor": 0
      },
      "text/plain": [
       "HBox(children=(IntProgress(value=0, max=469), HTML(value='')))"
      ]
     },
     "metadata": {},
     "output_type": "display_data"
    },
    {
     "data": {
      "application/vnd.jupyter.widget-view+json": {
       "model_id": "7ee967ed44354e52b59bec4f67979e7b",
       "version_major": 2,
       "version_minor": 0
      },
      "text/plain": [
       "HBox(children=(IntProgress(value=0, max=469), HTML(value='')))"
      ]
     },
     "metadata": {},
     "output_type": "display_data"
    },
    {
     "data": {
      "application/vnd.jupyter.widget-view+json": {
       "model_id": "95495ea80c234926b724f6d4e13bea23",
       "version_major": 2,
       "version_minor": 0
      },
      "text/plain": [
       "HBox(children=(IntProgress(value=0, max=469), HTML(value='')))"
      ]
     },
     "metadata": {},
     "output_type": "display_data"
    },
    {
     "data": {
      "application/vnd.jupyter.widget-view+json": {
       "model_id": "f4089d9b5ff849adb5a0c9256b3254fb",
       "version_major": 2,
       "version_minor": 0
      },
      "text/plain": [
       "HBox(children=(IntProgress(value=0, max=469), HTML(value='')))"
      ]
     },
     "metadata": {},
     "output_type": "display_data"
    },
    {
     "data": {
      "application/vnd.jupyter.widget-view+json": {
       "model_id": "0ffca66adc86437b86684df8b487d7db",
       "version_major": 2,
       "version_minor": 0
      },
      "text/plain": [
       "HBox(children=(IntProgress(value=0, max=469), HTML(value='')))"
      ]
     },
     "metadata": {},
     "output_type": "display_data"
    },
    {
     "data": {
      "application/vnd.jupyter.widget-view+json": {
       "model_id": "490e00ac467f49b1bb218a74c1287260",
       "version_major": 2,
       "version_minor": 0
      },
      "text/plain": [
       "HBox(children=(IntProgress(value=0, max=469), HTML(value='')))"
      ]
     },
     "metadata": {},
     "output_type": "display_data"
    },
    {
     "name": "stdout",
     "output_type": "stream",
     "text": [
      "\n"
     ]
    }
   ],
   "source": [
    "n_epochs = 50\n",
    "batch_size = 128\n",
    "\n",
    "n_batches = int(np.ceil(train_size/batch_size))\n",
    "losses = np.zeros((n_epochs, 2))\n",
    "\n",
    "with tf.Session() as sess:\n",
    "    sess.run(tf.global_variables_initializer())\n",
    "    \n",
    "    print('Training...')\n",
    "    epoch_bar = tnrange(n_epochs)\n",
    "    epoch_bar.set_description('Val. Loss: N/A')\n",
    "    for epoch in epoch_bar:\n",
    "        # shuffle data\n",
    "        perm = np.random.permutation(train_size)\n",
    "        \n",
    "        batch_bar = tnrange(n_batches)\n",
    "        batch_bar.set_description('Ave. Loss: N/A')\n",
    "        for batch in batch_bar:\n",
    "            # get batch\n",
    "            batch_imgs = train_dat[perm[batch*batch_size:min((batch+1)*batch_size, train_size)], :, :]\n",
    "            batch_labels = train_labels[perm[batch*batch_size:min((batch+1)*batch_size, train_size)], :]\n",
    "            \n",
    "            # apply training step, calculate loss\n",
    "            res = sess.run([train_op, loss], feed_dict={img_in:batch_imgs, label_true:batch_labels})\n",
    "            \n",
    "            losses[epoch, 0] += res[1]\n",
    "            \n",
    "            batch_bar.set_description('Ave. Loss: %f'%(losses[epoch, 0]/(batch+1)))\n",
    "                \n",
    "        # calculate validation\n",
    "        losses[epoch, 1] = sess.run(loss, feed_dict={img_in:valid_dat, label_true:valid_labels})\n",
    "        losses[epoch, 0] /= n_batches\n",
    "        \n",
    "        epoch_bar.set_description('Val. Loss: %f'%(losses[epoch, 1]))\n",
    "        \n",
    "    # get predictions for validation set\n",
    "    pred = sess.run(label_pred, feed_dict={img_in:valid_dat})"
   ]
  },
  {
   "cell_type": "markdown",
   "metadata": {},
   "source": [
    "## Evaluate Results\n",
    "\n",
    "Now that we are done training, we can evaluate some of the results.  First, lets look at at the loss curves:"
   ]
  },
  {
   "cell_type": "code",
   "execution_count": 5,
   "metadata": {},
   "outputs": [
    {
     "data": {
      "text/plain": [
       "<matplotlib.legend.Legend at 0x28474373128>"
      ]
     },
     "execution_count": 5,
     "metadata": {},
     "output_type": "execute_result"
    },
    {
     "data": {
      "image/png": "[encoded data removed]",
      "text/plain": [
       "<Figure size 432x288 with 1 Axes>"
      ]
     },
     "metadata": {
      "needs_background": "light"
     },
     "output_type": "display_data"
    }
   ],
   "source": [
    "plt.figure()\n",
    "plt.plot(losses)\n",
    "plt.xlabel('epoch')\n",
    "plt.ylabel('loss')\n",
    "plt.legend(['Average Loss', 'Validation Loss'])"
   ]
  },
  {
   "cell_type": "markdown",
   "metadata": {},
   "source": [
    "We have two curves of interest.  The Average Loss curve is the average loss over each epoch.  The Validation Loss curve is the average loss of the validation set at the end of each epoch.  Note that at the very begining, the average loss is higher than the validation.  This is because the network performes poorly, and the training improved the loss drastically over the course of the epoch.  The validation is only calculated using the network in its state at the end of the epoch.  However after the network learns on the training data, the training data starts to out perform the validation data.  This is because the training process is directly reducing the error for the training data, the fact that its performance on the validation continues to improve indicates that the network is learning relevant patterns and structures in the data.  If the validation performance begins to degrade while the training performance continues to improve, this is indicative of a common problem in machine learning where the network, instead of learning meaningful patterns in the data, is instead simply memorizing the training set, thus improving its performace on the training set, but loosing the ability to expand that knowledge to cases it has not seen in training.\n",
    "\n",
    "We can also look at some of the classifications themselves.  Lets pick out the case of each number that the classifier is most sure about."
   ]
  },
  {
   "cell_type": "code",
   "execution_count": 6,
   "metadata": {},
   "outputs": [
    {
     "data": {
      "image/png": "[encoded data removed]",
      "text/plain": [
       "<Figure size 432x288 with 10 Axes>"
      ]
     },
     "metadata": {
      "needs_background": "light"
     },
     "output_type": "display_data"
    }
   ],
   "source": [
    "best = np.argmax(pred, axis=0)\n",
    "\n",
    "plt.figure()\n",
    "for i in range(10):\n",
    "    plt.subplot(2, 5, i+1)\n",
    "    plt.imshow(valid_dat[best[i], :, :], cmap='gray')\n",
    "    plt.title('Pred: %d'%(i,))"
   ]
  },
  {
   "cell_type": "markdown",
   "metadata": {},
   "source": [
    "Here we can see a case of each number that was correctly classified.\n",
    "\n",
    "## On Your Own\n",
    "\n",
    "Now that we have gone through a demo of using a neural network to classify integer drawings from the MNIST data set, here are a few exercises to do on your own.  It is recommended to make a copy of the `MNISTIntegerClassification.py` file which contains all the code used here and modify it.\n",
    "\n",
    "1. Examine the final results:\n",
    "    1. What is the overall successfull classification rate?\n",
    "    2. What is the success rate for each integer?\n",
    "    3. What integers does it have a hard time classifying?  Why?\n",
    "    4. Look at some of the drawings it fails on, do they look clear to you?\n",
    "2. Improve Performance:\n",
    "    1. How does the performace improve when you make the current layers larger?\n",
    "    2. What if you add a new dense layer?\n",
    "    3. What if you put a convolutional layer in front?  (Note you will need to put the convolutional layer before the flatten layer)\n",
    "    4. What if you let it train longer?"
   ]
  },
  {
   "cell_type": "code",
   "execution_count": null,
   "metadata": {},
   "outputs": [],
   "source": []
  }
 ],
 "metadata": {
  "kernelspec": {
   "display_name": "Python 3",
   "language": "python",
   "name": "python3"
  },
  "language_info": {
   "codemirror_mode": {
    "name": "ipython",
    "version": 3
   },
   "file_extension": ".py",
   "mimetype": "text/x-python",
   "name": "python",
   "nbconvert_exporter": "python",
   "pygments_lexer": "ipython3",
   "version": "3.6.7"
  }
 },
 "nbformat": 4,
 "nbformat_minor": 2
}
