{
 "cells": [
  {
   "cell_type": "code",
   "execution_count": 1,
   "metadata": {},
   "outputs": [],
   "source": [
    "import numpy as np\n",
    "import matplotlib.pyplot as plt\n",
    "from tqdm import tnrange"
   ]
  },
  {
   "cell_type": "markdown",
   "metadata": {},
   "source": [
    "# Introduction to Optimization by Stochastic Gradient Descent\n",
    "\n",
    "The fundimntal pricipal behind Neural Networks and much of Machine Learning is the idea of optimization.  Optimization in its simplest terms is, given a set of parameters $\\mathbf{x}$, and a cost $c\\left(\\mathbf{x}\\right)$, finding the set of parameters that minimizes the cost.  The key do doing this is finding when $\\frac{dc}{d\\mathbf{x}}=0$.  There is a vast body of work on different approaches to doing this under many different constraints and conditions, we focus on a method call Stochastic Gradient Descent.  This method is commonly used to train Neural Networks, which are very flexible function that do not meet the parameters often required for other methods.  In this tutorial, we will illustrate the idea of Stochastic Gradient Descent with a simple curve fitting example.\n",
    "\n",
    "## Stochastic Gradient Descent\n",
    "Stochastic Gradient descent is a numerical method of finding a minimum by following the gradient of the cost function $c\\left(\\mathbf{x} \\vert \\mathbf{p}\\right)$ that is a function of some data $\\mathbf{x}$ parameterized by a set of parameters $\\mathbf{p}$.  We start by assuming an initial estimate of $\\mathbf{p}$.  Given a training dataset of $\\mathbf{x}$ values, we break the trainingset into smaller batches.  Often, the dataset will be shuffled before doing this.  We calculate the gradient of the cost function with respect to the parameters.  The gradient will tell us the direction of greatest increase in the cost, however since we want to decrease the cost, we move in the opposite direction of the gradient.\n",
    "\\begin{equation}\n",
    "\\mathbf{p}_{i+1} = \\mathbf{p}_i - l_r\\left.\\frac{\\partial c}{\\partial \\mathbf{p}}\\right|_{\\mathbf{p}_i}\n",
    "\\end{equation}\n",
    "where $l_r$ is a small number called the learning rate.  This is a small number that is used to scale the gradient.  If the learning rate is to large, the fit can overshoot the minima or even become unstable.  We update the parameter estimate for each batch before moving on to the next.  Once we The algorithm has cycled through the entire dataset, it has completed an epoch.  This is repeated either for a fixed number of epochs, or until some condition is satisfied that indicates the estimation has been located.\n",
    "\n",
    "### Example\n",
    "For our example, we will use data taken from a linear, second order, underdamped mass spring damper system.  We know from linear system theory that such a system will have a response of the form\n",
    "\\begin{equation}\n",
    "x\\left(t \\vert K, \\tau, \\omega_d\\right) = K\\left(1 - \\exp\\left(-\\frac{t}{\\tau}\\right)\\cos\\left(t\\omega_d\\right)\\right)\n",
    "\\end{equation}\n",
    "where $K$ is the DC Gain fo the system, $\\tau>0$ is the time consant of the system, and $\\omega_d>0$ is the damped natural frequency of the system.  Thus we have a parameter vecotr $\\mathbf{p} = \\left[K, \\tau, \\omega_d \\right]^T$.\n",
    "\n",
    "Given a batch of $N$ data pairs $\\left(t_i, x_i\\right) \\in \\left(X, T\\right)$ we can fit our curve to the data using the following least squares cost function\n",
    "\\begin{equation}\n",
    "c\\left(X_b, T_b \\vert K, \\tau, \\omega_d\\right) = \\sum_{i=1}^N\\left(x_i - x\\left(t_i \\vert K, \\tau, \\omega_d\\right)\\right)^2\n",
    "\\end{equation}\n",
    "The gradient can be calulated with respect to the parameters:\n",
    "\\begin{equation}\n",
    "\\nabla c = \\frac{\\partial c}{\\partial \\mathbf{p}} = \\sum_{i=1}^N \\left[2\\frac{\\partial x}{\\partial K}\\left(x_i - x\\left(t_i \\vert K, \\tau, \\omega_d\\right)\\right)\\ 2\\frac{\\partial x}{\\partial \\tau}\\left(x_i - x\\left(t_i \\vert K, \\tau, \\omega_d\\right)\\right)\\ 2\\frac{\\partial x}{\\partial \\omega_d}\\left(x_i - x\\left(t_i \\vert K, \\tau, \\omega_d\\right)\\right)\\right]^T\n",
    "\\end{equation}\n",
    "where\n",
    "\\begin{equation}\n",
    "\\frac{\\partial x}{\\partial K} = \\left(1 - \\exp\\left(-\\frac{t}{\\tau}\\right)\\cos\\left(t\\omega_d\\right)\\right)\n",
    "\\end{equation}\n",
    "\\begin{equation}\n",
    "\\frac{\\partial x}{\\partial \\tau} = -K\\frac{t}{\\tau^2}\\exp\\left(-\\frac{t}{\\tau}\\right)\\cos\\left(t\\omega_d\\right)\n",
    "\\end{equation}\n",
    "\\begin{equation}\n",
    "\\frac{\\partial x}{\\partial \\omega_d} = K\\omega_d\\exp\\left(-\\frac{t}{\\tau}\\right)\\sin\\left(t\\omega_d\\right)\n",
    "\\end{equation}\n",
    "\n",
    "Given these calculations, we can use the stochastic gradient descent algorithm described above to perform our optimization.  Now that we have all of the derivations we need, we can load a dataset to train on."
   ]
  },
  {
   "cell_type": "code",
   "execution_count": 2,
   "metadata": {},
   "outputs": [
    {
     "data": {
      "text/plain": [
       "Text(0, 0.5, 'displacement (Rad)')"
      ]
     },
     "execution_count": 2,
     "metadata": {},
     "output_type": "execute_result"
    },
    {
     "data": {
      "image/png": "[encoded data removed]",
      "text/plain": [
       "<Figure size 432x288 with 1 Axes>"
      ]
     },
     "metadata": {
      "needs_background": "light"
     },
     "output_type": "display_data"
    }
   ],
   "source": [
    "# Load data\n",
    "with open('../../data/MSDResponse/MSDResponse_noise_small.csv', 'r') as f:\n",
    "    T = []\n",
    "    X = []\n",
    "    N = 0\n",
    "    row = f.readline().split(',')\n",
    "    \n",
    "    while len(row) == 2:\n",
    "        T.append(float(row[0]))\n",
    "        X.append(float(row[1]))\n",
    "        N += 1\n",
    "        \n",
    "        row = f.readline().split(',')\n",
    "        \n",
    "    T = np.array(T)\n",
    "    X = np.array(X)\n",
    "    \n",
    "plt.figure()\n",
    "plt.plot(T, X, 'b.')\n",
    "plt.xlabel('time (s)')\n",
    "plt.ylabel('displacement (Rad)')"
   ]
  },
  {
   "cell_type": "markdown",
   "metadata": {},
   "source": [
    "Now we define the curve to fit, the cost function, and the gradients:"
   ]
  },
  {
   "cell_type": "code",
   "execution_count": 3,
   "metadata": {},
   "outputs": [],
   "source": [
    "# Define function to fit\n",
    "def x(t, p):\n",
    "    K = p[0]\n",
    "    tau = p[1]\n",
    "    w_d = p[2]\n",
    "    \n",
    "    return K*(1 - np.exp(-t/tau)*np.cos(t*w_d))\n",
    "\n",
    "# Define cost\n",
    "def c(T, X, p):\n",
    "    c = 0\n",
    "    for i in range(T.shape[0]):\n",
    "        c += (X[i] - x(T[i], p))**2\n",
    "    return c\n",
    "\n",
    "# Define Gradients\n",
    "def x_grad(t, p):\n",
    "    K = p[0]\n",
    "    tau = p[1]\n",
    "    w_d = p[2]\n",
    "    \n",
    "    x_K =  (1 - np.exp(-t/tau)*np.cos(t*w_d))\n",
    "    x_tau = -K*t/(tau**2)*np.exp(-t/tau)*np.cos(t*w_d)\n",
    "    x_w_d = K*w_d*np.exp(-t/tau)*np.sin(t*w_d)\n",
    "    \n",
    "    return np.array([x_K, x_tau, x_w_d])\n",
    "\n",
    "def c_grad(T, X, p):\n",
    "    grad_c = np.zeros(3)\n",
    "    for i in range(T.shape[0]):\n",
    "        grad_c += -2*x_grad(T[i], p)*(X[i] - x(T[i], p))\n",
    "    return grad_c"
   ]
  },
  {
   "cell_type": "markdown",
   "metadata": {},
   "source": [
    "Now we just need to define a starting parameter estimate, specify the number of epochs to run on the data, the batch size to use, and a learning rate.  We also need to make our inital guess at the parameters.  We can inspect the data and see that the DC Gain is going to be on the order of 1 (it will probably be about 5), the time constant will be on the order of 0.1, and the frequency will be on the order of 10.  We will use these values as out initial guesses for the parameters."
   ]
  },
  {
   "cell_type": "code",
   "execution_count": 4,
   "metadata": {},
   "outputs": [
    {
     "data": {
      "application/vnd.jupyter.widget-view+json": {
       "model_id": "1d32ff57d6bd43fc9b015dcf1384a240",
       "version_major": 2,
       "version_minor": 0
      },
      "text/plain": [
       "HBox(children=(IntProgress(value=0, max=20), HTML(value='')))"
      ]
     },
     "metadata": {},
     "output_type": "display_data"
    },
    {
     "data": {
      "application/vnd.jupyter.widget-view+json": {
       "model_id": "7e72291fe74444fe99c4caf33a82eba0",
       "version_major": 2,
       "version_minor": 0
      },
      "text/plain": [
       "HBox(children=(IntProgress(value=0, max=13), HTML(value='')))"
      ]
     },
     "metadata": {},
     "output_type": "display_data"
    },
    {
     "data": {
      "application/vnd.jupyter.widget-view+json": {
       "model_id": "96047a5659bc426a82b92f12f16e8012",
       "version_major": 2,
       "version_minor": 0
      },
      "text/plain": [
       "HBox(children=(IntProgress(value=0, max=13), HTML(value='')))"
      ]
     },
     "metadata": {},
     "output_type": "display_data"
    },
    {
     "data": {
      "application/vnd.jupyter.widget-view+json": {
       "model_id": "dcb55b8ef941400d910182e457baf065",
       "version_major": 2,
       "version_minor": 0
      },
      "text/plain": [
       "HBox(children=(IntProgress(value=0, max=13), HTML(value='')))"
      ]
     },
     "metadata": {},
     "output_type": "display_data"
    },
    {
     "data": {
      "application/vnd.jupyter.widget-view+json": {
       "model_id": "49c5dc64a3384e8eaa06209720748876",
       "version_major": 2,
       "version_minor": 0
      },
      "text/plain": [
       "HBox(children=(IntProgress(value=0, max=13), HTML(value='')))"
      ]
     },
     "metadata": {},
     "output_type": "display_data"
    },
    {
     "data": {
      "application/vnd.jupyter.widget-view+json": {
       "model_id": "ae838e95e5e347ddbfbdf1ad83ff1f09",
       "version_major": 2,
       "version_minor": 0
      },
      "text/plain": [
       "HBox(children=(IntProgress(value=0, max=13), HTML(value='')))"
      ]
     },
     "metadata": {},
     "output_type": "display_data"
    },
    {
     "data": {
      "application/vnd.jupyter.widget-view+json": {
       "model_id": "0f3516b1e6ec44fda38b0eeccc75e7eb",
       "version_major": 2,
       "version_minor": 0
      },
      "text/plain": [
       "HBox(children=(IntProgress(value=0, max=13), HTML(value='')))"
      ]
     },
     "metadata": {},
     "output_type": "display_data"
    },
    {
     "data": {
      "application/vnd.jupyter.widget-view+json": {
       "model_id": "e7ab507a2b21437d872082ba6db7edfa",
       "version_major": 2,
       "version_minor": 0
      },
      "text/plain": [
       "HBox(children=(IntProgress(value=0, max=13), HTML(value='')))"
      ]
     },
     "metadata": {},
     "output_type": "display_data"
    },
    {
     "data": {
      "application/vnd.jupyter.widget-view+json": {
       "model_id": "bec09dc756a74fef994e0dd6acb1f2fc",
       "version_major": 2,
       "version_minor": 0
      },
      "text/plain": [
       "HBox(children=(IntProgress(value=0, max=13), HTML(value='')))"
      ]
     },
     "metadata": {},
     "output_type": "display_data"
    },
    {
     "data": {
      "application/vnd.jupyter.widget-view+json": {
       "model_id": "cf03f3efeae340a885bd4debc0af434d",
       "version_major": 2,
       "version_minor": 0
      },
      "text/plain": [
       "HBox(children=(IntProgress(value=0, max=13), HTML(value='')))"
      ]
     },
     "metadata": {},
     "output_type": "display_data"
    },
    {
     "data": {
      "application/vnd.jupyter.widget-view+json": {
       "model_id": "241c1699bf7a404f99a2e4c3f76dd7b7",
       "version_major": 2,
       "version_minor": 0
      },
      "text/plain": [
       "HBox(children=(IntProgress(value=0, max=13), HTML(value='')))"
      ]
     },
     "metadata": {},
     "output_type": "display_data"
    },
    {
     "data": {
      "application/vnd.jupyter.widget-view+json": {
       "model_id": "7a1761d9f4074d798500636ee297fa95",
       "version_major": 2,
       "version_minor": 0
      },
      "text/plain": [
       "HBox(children=(IntProgress(value=0, max=13), HTML(value='')))"
      ]
     },
     "metadata": {},
     "output_type": "display_data"
    },
    {
     "data": {
      "application/vnd.jupyter.widget-view+json": {
       "model_id": "b96ee5a65ae84bd486bd01293c026d91",
       "version_major": 2,
       "version_minor": 0
      },
      "text/plain": [
       "HBox(children=(IntProgress(value=0, max=13), HTML(value='')))"
      ]
     },
     "metadata": {},
     "output_type": "display_data"
    },
    {
     "data": {
      "application/vnd.jupyter.widget-view+json": {
       "model_id": "8246ad919e3140b6a76bc582007d537d",
       "version_major": 2,
       "version_minor": 0
      },
      "text/plain": [
       "HBox(children=(IntProgress(value=0, max=13), HTML(value='')))"
      ]
     },
     "metadata": {},
     "output_type": "display_data"
    },
    {
     "data": {
      "application/vnd.jupyter.widget-view+json": {
       "model_id": "edde1455f61e4076a4671ecf06b4b80f",
       "version_major": 2,
       "version_minor": 0
      },
      "text/plain": [
       "HBox(children=(IntProgress(value=0, max=13), HTML(value='')))"
      ]
     },
     "metadata": {},
     "output_type": "display_data"
    },
    {
     "data": {
      "application/vnd.jupyter.widget-view+json": {
       "model_id": "717858d55d4443b0a1e706281a565d91",
       "version_major": 2,
       "version_minor": 0
      },
      "text/plain": [
       "HBox(children=(IntProgress(value=0, max=13), HTML(value='')))"
      ]
     },
     "metadata": {},
     "output_type": "display_data"
    },
    {
     "data": {
      "application/vnd.jupyter.widget-view+json": {
       "model_id": "71f3fc269b9f4b149173beb614688d79",
       "version_major": 2,
       "version_minor": 0
      },
      "text/plain": [
       "HBox(children=(IntProgress(value=0, max=13), HTML(value='')))"
      ]
     },
     "metadata": {},
     "output_type": "display_data"
    },
    {
     "data": {
      "application/vnd.jupyter.widget-view+json": {
       "model_id": "0a49a7982a214beeb590f13617522057",
       "version_major": 2,
       "version_minor": 0
      },
      "text/plain": [
       "HBox(children=(IntProgress(value=0, max=13), HTML(value='')))"
      ]
     },
     "metadata": {},
     "output_type": "display_data"
    },
    {
     "data": {
      "application/vnd.jupyter.widget-view+json": {
       "model_id": "403eb364f26841048adf7e70a6e8b99a",
       "version_major": 2,
       "version_minor": 0
      },
      "text/plain": [
       "HBox(children=(IntProgress(value=0, max=13), HTML(value='')))"
      ]
     },
     "metadata": {},
     "output_type": "display_data"
    },
    {
     "data": {
      "application/vnd.jupyter.widget-view+json": {
       "model_id": "1e524e2059644b59ba33d59d69249da7",
       "version_major": 2,
       "version_minor": 0
      },
      "text/plain": [
       "HBox(children=(IntProgress(value=0, max=13), HTML(value='')))"
      ]
     },
     "metadata": {},
     "output_type": "display_data"
    },
    {
     "data": {
      "application/vnd.jupyter.widget-view+json": {
       "model_id": "db2b94faeddd44f0a0ecdaf173b653e0",
       "version_major": 2,
       "version_minor": 0
      },
      "text/plain": [
       "HBox(children=(IntProgress(value=0, max=13), HTML(value='')))"
      ]
     },
     "metadata": {},
     "output_type": "display_data"
    },
    {
     "name": "stdout",
     "output_type": "stream",
     "text": [
      "\n"
     ]
    }
   ],
   "source": [
    "# Training Parameters\n",
    "epochs = 20\n",
    "batch_size = 10\n",
    "lr = 0.001\n",
    "p_0 = [1, 0.1, 10]\n",
    "\n",
    "# Training\n",
    "costs = np.zeros(epochs)\n",
    "p = np.zeros((epochs+1, len(p_0)))\n",
    "p[0, :] = p_0\n",
    "\n",
    "n_batches = int(np.ceil(N/batch_size))\n",
    "\n",
    "for epoch in tnrange(epochs):\n",
    "    perm = np.random.permutation(N)\n",
    "    \n",
    "    for batch in tnrange(n_batches):\n",
    "        T_batch = T[perm[batch*batch_size:min((batch+1)*batch_size, N)]]\n",
    "        X_batch = X[perm[batch*batch_size:min((batch+1)*batch_size, N)]]\n",
    "        costs[epoch] += c(T_batch, X_batch, p[epoch, :])\n",
    "        grad = c_grad(T_batch, X_batch, p[epoch, :])\n",
    "        p[epoch, :] -= lr*grad\n",
    "    \n",
    "    p[epoch+1, :] = p[epoch, :]\n",
    "    \n",
    "p[1:, :] = p[0:-1, :]\n",
    "p[0, :] = p_0"
   ]
  },
  {
   "cell_type": "markdown",
   "metadata": {},
   "source": [
    "Now that the training is complete, lets examine the results.  We will plot the final result with the data, we will also plot the histories of cost and the parameter estimates."
   ]
  },
  {
   "cell_type": "code",
   "execution_count": 5,
   "metadata": {},
   "outputs": [
    {
     "data": {
      "text/plain": [
       "<matplotlib.legend.Legend at 0x164653ea898>"
      ]
     },
     "execution_count": 5,
     "metadata": {},
     "output_type": "execute_result"
    },
    {
     "data": {
      "image/png": "[encoded data removed]",
      "text/plain": [
       "<Figure size 432x288 with 1 Axes>"
      ]
     },
     "metadata": {
      "needs_background": "light"
     },
     "output_type": "display_data"
    },
    {
     "data": {
      "image/png": "[encoded data removed]",
      "text/plain": [
       "<Figure size 432x288 with 1 Axes>"
      ]
     },
     "metadata": {
      "needs_background": "light"
     },
     "output_type": "display_data"
    },
    {
     "data": {
      "image/png": "[encoded data removed]",
      "text/plain": [
       "<Figure size 432x288 with 1 Axes>"
      ]
     },
     "metadata": {
      "needs_background": "light"
     },
     "output_type": "display_data"
    }
   ],
   "source": [
    "plt.figure()\n",
    "plt.plot(T, X, 'b.')\n",
    "plt.plot(T, x(T, p[-1, :]), 'r')\n",
    "plt.xlabel('time (s)')\n",
    "plt.ylabel('displacement')\n",
    "plt.legend(('data', 'fitted curve'))\n",
    "\n",
    "plt.figure()\n",
    "plt.plot(costs)\n",
    "plt.xlabel('iteration')\n",
    "plt.ylabel('cost')\n",
    "\n",
    "plt.figure()\n",
    "plt.plot(p[:, 0])\n",
    "plt.plot(p[:, 1])\n",
    "plt.plot(p[:, 2])\n",
    "plt.xlabel('iteration')\n",
    "plt.legend(('K estimate', 'tau estimate', 'omega estimate'))"
   ]
  },
  {
   "cell_type": "markdown",
   "metadata": {},
   "source": [
    "We can see that our system approximated the data relatively well.  We can also see that the learning has reached a steady state as the cost has leveled off, and the parameter estimates have stopped changing.  This is because the gradient has gone zero, indicating that we are at the minimum.\n",
    "\n",
    "### Pitfalls\n",
    "While usefull, there are several pitfalls to be aware of when using gradient descent.  Consider a system with a single parameter who's cost surface is given in this figure: ![local_extrema](figs/local_extrema.png) The red dots are places where the gradient of this surface is zero, also known as the functions extrema.  Note the one in the middle is not a minimum, but a maximum point.  If the initial guess at the parameter were set to this value, then the gradient descent algorightm would not work because the gradient is zero at that point.  Fortunately, for this to be an issue, the initial guess must be exactly on the maximum.  If the estimate is even slightly off of that point, then the gradient descent algorightm will move away from it.\n",
    "\n",
    "More concerning for us is the fact that this function aslo has two minima points.  These are referred to as \"Local Minima,\" or points that hold the smallest value for a range that is a subset of the entire range of the function.  Depending on where we choose our initial guess, we will arrive at one of these minima.  If we choose to start at -0.1, the gradient descent will take us down the gradient toward the minimum on the left, while if we start at 0.1, the gradient will descent toward the minimum on the right.  Once we arrive at a minimum, we only know that it is a local minimum, we need other tools and knowledge to determine if it is the \"Global Minimum\" or the the smallest value for the entire range of the function.  To counter this, many machine learning algorithms use a technique called Exploration.  Exploration just means sometimes sampeling other random parts of the space just to see well it works and to make sure it is not better than our current solution.  For example, a genetic algorithm would pick several starting points and evaluate the cost at each of these.  It would then eliminate a fraction of the sample points and resample these points randomely near the points it kept.  This process starts by examing a wide area, but will converge to local minima.  The values of these minima can then be evaluated to see which is the Global Minimum.  With Neural Networks, which we will be exploreing in the next tutorial, most local minima are also the Global Minimum, and the larger the network, the less likely a local minimum is to be a sub-optimal minimum.  See [this paper](https://arxiv.org/abs/1412.0233) for details.\n",
    "\n",
    "### On Your Own\n",
    "Now lets play with the example a bit.  It is recommended to make a copy of the `OptimizationBySGD.py` file which contains all the code used here and modify it.\n",
    "\n",
    "1. Adjust the initial guess and training parameters, how do the effect the fit?\n",
    "    2. What parameter is the algorithm most robust to?\n",
    "    3. Which is it least robuts to?\n",
    "    4. What happens when the learning rate gets large?\n",
    "    5. What about when it gets small?\n",
    "    6. How does the batch size influence the learning?\n",
    "    7. What about he number of epochs being trained on?\n",
    "2. Impliment a more intelligent stop condition and just training for a number of epochs.\n",
    "    "
   ]
  },
  {
   "cell_type": "code",
   "execution_count": null,
   "metadata": {},
   "outputs": [],
   "source": []
  }
 ],
 "metadata": {
  "kernelspec": {
   "display_name": "Python 3",
   "language": "python",
   "name": "python3"
  },
  "language_info": {
   "codemirror_mode": {
    "name": "ipython",
    "version": 3
   },
   "file_extension": ".py",
   "mimetype": "text/x-python",
   "name": "python",
   "nbconvert_exporter": "python",
   "pygments_lexer": "ipython3",
   "version": "3.6.7"
  }
 },
 "nbformat": 4,
 "nbformat_minor": 2
}
